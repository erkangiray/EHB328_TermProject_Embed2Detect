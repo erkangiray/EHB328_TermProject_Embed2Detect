{
  "nbformat": 4,
  "nbformat_minor": 0,
  "metadata": {
    "colab": {
      "provenance": [],
      "collapsed_sections": [],
      "authorship_tag": "ABX9TyNjq1MCttokiGG+DgA1YKVN",
      "include_colab_link": true
    },
    "kernelspec": {
      "name": "python3",
      "display_name": "Python 3"
    },
    "language_info": {
      "name": "python"
    }
  },
  "cells": [
    {
      "cell_type": "markdown",
      "metadata": {
        "id": "view-in-github",
        "colab_type": "text"
      },
      "source": [
        "<a href=\"https://colab.research.google.com/github/erkangiray/EHB328_TermProject_Embed2Detect/blob/master/Main_Embed2Detect_Giray.ipynb\" target=\"_parent\"><img src=\"https://colab.research.google.com/assets/colab-badge.svg\" alt=\"Open In Colab\"/></a>"
      ]
    },
    {
      "cell_type": "code",
      "source": [
        "import os \n",
        "from google.colab import drive"
      ],
      "metadata": {
        "id": "M_Mb9AHMD0RR"
      },
      "execution_count": null,
      "outputs": []
    },
    {
      "cell_type": "code",
      "source": [
        "# mount colab on google drive\n",
        "drive.mount('/content/gdrive/', force_remount=True)"
      ],
      "metadata": {
        "colab": {
          "base_uri": "https://localhost:8080/"
        },
        "id": "sZYTRij2IGu9",
        "outputId": "d6b70d6f-264b-4bdd-e511-1b180459317e"
      },
      "execution_count": null,
      "outputs": [
        {
          "output_type": "stream",
          "name": "stdout",
          "text": [
            "Mounted at /content/gdrive/\n"
          ]
        }
      ]
    },
    {
      "cell_type": "code",
      "source": [
        "!pwd\n",
        "!ls"
      ],
      "metadata": {
        "colab": {
          "base_uri": "https://localhost:8080/"
        },
        "id": "a-Dlf4U_DvDW",
        "outputId": "e60f37f0-af2f-4794-ea37-1d26d3caae81"
      },
      "execution_count": null,
      "outputs": [
        {
          "output_type": "stream",
          "name": "stdout",
          "text": [
            "/content/gdrive/MyDrive/Colab/Embed2Detect_Folders\n",
            "Embed2Detect  Twitter-Event-Data-2019\n"
          ]
        }
      ]
    },
    {
      "cell_type": "code",
      "source": [
        "# navigate to MyDrive\n",
        "%cd gdrive/MyDrive"
      ],
      "metadata": {
        "colab": {
          "base_uri": "https://localhost:8080/"
        },
        "id": "EMr_8fNtETyU",
        "outputId": "454645fa-5187-427d-8ee4-8aa0c858ee78"
      },
      "execution_count": null,
      "outputs": [
        {
          "output_type": "stream",
          "name": "stdout",
          "text": [
            "/content/gdrive/MyDrive/Colab/Embed2Detect_Folders\n"
          ]
        }
      ]
    },
    {
      "cell_type": "code",
      "source": [
        "# create directory to hold all folders\n",
        "os.mkdir(\"/content/gdrive/MyDrive/Colab/Embed2Detect_Folders\")"
      ],
      "metadata": {
        "id": "Ni7pWo6kIq9w"
      },
      "execution_count": null,
      "outputs": []
    },
    {
      "cell_type": "code",
      "source": [
        "# navigate to the created directory\n",
        "%cd Colab/Embed2Detect_Folders"
      ],
      "metadata": {
        "id": "uwIj6K2wLEsy"
      },
      "execution_count": null,
      "outputs": []
    },
    {
      "cell_type": "code",
      "execution_count": null,
      "metadata": {
        "colab": {
          "base_uri": "https://localhost:8080/"
        },
        "id": "bgUitiKlB9Oc",
        "outputId": "09652549-5617-42ad-c4ac-ef57af6aa0b1"
      },
      "outputs": [
        {
          "output_type": "stream",
          "name": "stdout",
          "text": [
            "fatal: destination path 'Embed2Detect' already exists and is not an empty directory.\n"
          ]
        }
      ],
      "source": [
        "# clone the main python scripts from GitHub\n",
        "!git clone https://github.com/HHansi/Embed2Detect.git"
      ]
    },
    {
      "cell_type": "code",
      "source": [
        "# clone the datasets from GitHub\n",
        "!git clone https://github.com/HHansi/Twitter-Event-Data-2019.git"
      ],
      "metadata": {
        "colab": {
          "base_uri": "https://localhost:8080/"
        },
        "id": "guQabph4KhD6",
        "outputId": "ff6844b0-9dda-4100-d053-c333dfca3af7"
      },
      "execution_count": null,
      "outputs": [
        {
          "output_type": "stream",
          "name": "stdout",
          "text": [
            "Cloning into 'Twitter-Event-Data-2019'...\n",
            "remote: Enumerating objects: 180, done.\u001b[K\n",
            "remote: Counting objects: 100% (180/180), done.\u001b[K\n",
            "remote: Compressing objects: 100% (167/167), done.\u001b[K\n",
            "remote: Total 180 (delta 32), reused 151 (delta 9), pack-reused 0\u001b[K\n",
            "Receiving objects: 100% (180/180), 4.20 MiB | 9.64 MiB/s, done.\n",
            "Resolving deltas: 100% (32/32), done.\n",
            "Checking out files: 100% (140/140), done.\n"
          ]
        }
      ]
    },
    {
      "cell_type": "markdown",
      "source": [
        "in main.py we can see this line of code:\n",
        "```\n",
        "if __name__ == '__main__':\n",
        "    data_file_path = '../data/munliv.tsv'\n",
        "    from_time = '2019_10_20_15_28_00'\n",
        "    to_time = '2019_10_20_15_34_00'\n",
        "    window_legth = 2\n",
        "    alpha = 0.23\n",
        "    beta = 20\n",
        "```\n",
        "However when we clone the datasets from GitHub, we see that they are contained in a folder named \"Twitter-Event-Data-2019\". This means the code won't work just by cloning both GitHub directories onto Google Drive.<br>\n",
        "<br>\n",
        "The definition of the Embed2Detect main loop explains how the parameters must be in order for the code to function properly:\n",
        "```\n",
        "def embed2detect(data_file_path: str, from_time: str, to_time: str, time_window_length: int, alpha: float, beta: int):\n",
        "\n",
        "    The main flow of Embed2Detect.\n",
        "    parameters\n",
        "    -----------\n",
        "    :param data_file_path: str (.tsv file path)\n",
        "        There should be at least 3 columns in the file corresponding to id, timestamp and text with the column names.\n",
        "        The timestamp values need to be formatted as %Y-%m-%d %H:%M:%S\n",
        "    :param from_time: str formatted as '%Y_%m_%d_%H_%M_%S' (e.g. '2019_10_20_17_30_00')\n",
        "        The starting time of focused data stream.\n",
        "    :param to_time: str formatted as '%Y_%m_%d_%H_%M_%S' (e.g. '2019_10_20_17_30_00')\n",
        "        The ending time of focused data stream.\n",
        "    :param time_window_length: int\n",
        "        Time window length in minutes.\n",
        "    :param alpha: float\n",
        "        Hyper-parameter alpha\n",
        "    :param beta: int\n",
        "        Hyper-parameter beta\n",
        "    :return:\n",
        "```\n",
        "The cloned data folder doesn't have any files in the '.tsv' format. Turns out TSV means tab-seperated values. <blockquote>A tab-separated values file is a simple text format for storing data in a tabular structure, e.g., a database table or spreadsheet data, and a way of exchanging information between databases. Each record in the table is one line of the text file.</blockquote>\n",
        "Since the cloned folders don't have any '.tsv' files, maybe the '.txt' files can also function as '.tsv' files? I searched Google for an answer, and I think the '.txt' files in our cloned directory matches the requirements for functioning as '.tsv' files. The explanation on Google was:<blockquote>Is TSV a TXT file?<br>They are all text files, following the same \"guidelines\". The difference between the files are - as long as the creator followed some \"rules\", that: A csv file will have comma separated values and a tsv file will have tab seperated values.</blockquote>\n",
        "But I still can't figure out which '.txt' file can function as the 'munliv.tsv' called upon in 'main.py'. There are three folders inside the MUN database folder. They are 'ground_truth', 'ground_truth_v2' and 'time_windows'. The last one contains just lines of numbers seperated not by tabs but by new lines. The ground truth files contain some keywords contained in [] brackets, but they don't make any sense to me. I can't figure out which would serve as our 'munliv.tsv'."
      ],
      "metadata": {
        "id": "xervcU3sL2es"
      }
    },
    {
      "cell_type": "code",
      "source": [],
      "metadata": {
        "id": "mAbGk1tIFyzP"
      },
      "execution_count": null,
      "outputs": []
    },
    {
      "cell_type": "markdown",
      "source": [
        "There is a file called \"requirements.txt\"\n",
        "\n",
        "<blockquote><br>python=3.7\n",
        "<br>gensim==3.8.1 # conda install -c conda-forge gensim\n",
        "<br>scikit-learn==0.22.1\n",
        "<br>pandas==0.25.3\n",
        "<br>editdistance==0.5.3\n",
        "<br>nltk==3.4.5\n",
        "<br>matplotlib==3.1.2\n",
        "<br>orderedset==2.0.3\n",
        "\n",
        "<para>steps to download nltk stopwords\n",
        "<br>import nltk\n",
        "<br>nltk.download('stopwords')</blockquote>\n"
      ],
      "metadata": {
        "id": "TGaaqf46MtKQ"
      }
    },
    {
      "cell_type": "code",
      "source": [
        "from platform import python_version\n",
        " \n",
        " \n",
        "print(\"Current Python Version-\", python_version())"
      ],
      "metadata": {
        "colab": {
          "base_uri": "https://localhost:8080/"
        },
        "id": "5GMsyrPHM3MI",
        "outputId": "00a35da4-7eae-4547-b4b7-18e4f6849de1"
      },
      "execution_count": 1,
      "outputs": [
        {
          "output_type": "stream",
          "name": "stdout",
          "text": [
            "Current Python Version- 3.7.15\n"
          ]
        }
      ]
    },
    {
      "cell_type": "code",
      "source": [],
      "metadata": {
        "colab": {
          "base_uri": "https://localhost:8080/"
        },
        "id": "WgZ3ZKHWNVxS",
        "outputId": "ee6e553e-e3dd-4ba4-d85d-d6d2821198e9"
      },
      "execution_count": 4,
      "outputs": [
        {
          "output_type": "stream",
          "name": "stdout",
          "text": [
            "\u001b[31mERROR: Could not open requirements file: [Errno 2] No such file or directory: 'conda-forge'\u001b[0m\n"
          ]
        }
      ]
    },
    {
      "cell_type": "code",
      "source": [],
      "metadata": {
        "id": "sYSPgDkWNfOo"
      },
      "execution_count": null,
      "outputs": []
    }
  ]
}